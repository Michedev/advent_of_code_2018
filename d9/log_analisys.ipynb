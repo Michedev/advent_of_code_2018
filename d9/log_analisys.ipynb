{
 "cells": [
  {
   "cell_type": "code",
   "execution_count": 38,
   "metadata": {},
   "outputs": [],
   "source": [
    "import pandas as pd\n",
    "import matplotlib.pyplot as plt\n",
    "plt.style.use('seaborn-paper')"
   ]
  },
  {
   "cell_type": "code",
   "execution_count": 39,
   "metadata": {},
   "outputs": [
    {
     "name": "stdout",
     "output_type": "stream",
     "text": [
      "['seaborn-deep', 'seaborn-white', 'grayscale', 'fivethirtyeight', 'seaborn-whitegrid', 'seaborn-darkgrid', 'tableau-colorblind10', 'seaborn-dark-palette', 'seaborn-talk', 'seaborn-bright', 'seaborn-colorblind', 'seaborn-paper', '_classic_test', 'seaborn-muted', 'seaborn-pastel', 'seaborn-dark', 'Solarize_Light2', 'classic', 'seaborn', 'fast', 'seaborn-notebook', 'seaborn-poster', 'bmh', 'dark_background', 'ggplot', 'seaborn-ticks']\n"
     ]
    }
   ],
   "source": [
    "print(plt.style.available)"
   ]
  },
  {
   "cell_type": "code",
   "execution_count": 40,
   "metadata": {},
   "outputs": [],
   "source": [
    "log = pd.read_csv('./log.csv')"
   ]
  },
  {
   "cell_type": "code",
   "execution_count": 41,
   "metadata": {},
   "outputs": [
    {
     "data": {
      "image/png": "[encoded data removed]",
      "text/plain": [
       "<Figure size 460.8x316.8 with 1 Axes>"
      ]
     },
     "metadata": {},
     "output_type": "display_data"
    }
   ],
   "source": [
    "log.plot.line('turn', 'points')\n",
    "plt.show()"
   ]
  },
  {
   "cell_type": "code",
   "execution_count": 42,
   "metadata": {},
   "outputs": [
    {
     "data": {
      "text/html": [
       "<div>\n",
       "<style scoped>\n",
       "    .dataframe tbody tr th:only-of-type {\n",
       "        vertical-align: middle;\n",
       "    }\n",
       "\n",
       "    .dataframe tbody tr th {\n",
       "        vertical-align: top;\n",
       "    }\n",
       "\n",
       "    .dataframe thead th {\n",
       "        text-align: right;\n",
       "    }\n",
       "</style>\n",
       "<table border=\"1\" class=\"dataframe\">\n",
       "  <thead>\n",
       "    <tr style=\"text-align: right;\">\n",
       "      <th></th>\n",
       "      <th>turn</th>\n",
       "      <th>best_player_id</th>\n",
       "      <th>points</th>\n",
       "    </tr>\n",
       "  </thead>\n",
       "  <tbody>\n",
       "    <tr>\n",
       "      <th>1315475</th>\n",
       "      <td>1315475</td>\n",
       "      <td>4</td>\n",
       "      <td>110710770</td>\n",
       "    </tr>\n",
       "    <tr>\n",
       "      <th>1315476</th>\n",
       "      <td>1315476</td>\n",
       "      <td>4</td>\n",
       "      <td>110710770</td>\n",
       "    </tr>\n",
       "    <tr>\n",
       "      <th>1315477</th>\n",
       "      <td>1315477</td>\n",
       "      <td>4</td>\n",
       "      <td>110710770</td>\n",
       "    </tr>\n",
       "    <tr>\n",
       "      <th>1315478</th>\n",
       "      <td>1315478</td>\n",
       "      <td>4</td>\n",
       "      <td>110710770</td>\n",
       "    </tr>\n",
       "    <tr>\n",
       "      <th>1315479</th>\n",
       "      <td>1315479</td>\n",
       "      <td>4</td>\n",
       "      <td>11071</td>\n",
       "    </tr>\n",
       "  </tbody>\n",
       "</table>\n",
       "</div>"
      ],
      "text/plain": [
       "            turn  best_player_id     points\n",
       "1315475  1315475               4  110710770\n",
       "1315476  1315476               4  110710770\n",
       "1315477  1315477               4  110710770\n",
       "1315478  1315478               4  110710770\n",
       "1315479  1315479               4      11071"
      ]
     },
     "execution_count": 42,
     "metadata": {},
     "output_type": "execute_result"
    }
   ],
   "source": [
    "log.tail()"
   ]
  },
  {
   "cell_type": "code",
   "execution_count": 37,
   "metadata": {},
   "outputs": [
    {
     "data": {
      "text/plain": [
       "2136588350"
      ]
     },
     "execution_count": 37,
     "metadata": {},
     "output_type": "execute_result"
    }
   ],
   "source": [
    "2**31 - 10895298"
   ]
  }
 ],
 "metadata": {
  "kernelspec": {
   "display_name": "DataScience",
   "language": "python",
   "name": "datascience"
  },
  "language_info": {
   "codemirror_mode": {
    "name": "ipython",
    "version": 3
   },
   "file_extension": ".py",
   "mimetype": "text/x-python",
   "name": "python",
   "nbconvert_exporter": "python",
   "pygments_lexer": "ipython3",
   "version": "3.6.7"
  }
 },
 "nbformat": 4,
 "nbformat_minor": 2
}
